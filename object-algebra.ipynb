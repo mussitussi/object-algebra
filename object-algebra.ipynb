{
  "cells": [
    {
      "cell_type": "markdown",
      "source": [
        "# The *don't-touch-my-code* orthogonality problem?\n",
        "\n",
        "When coding it seems like a good idea to try and mimize having to change the code in a datastructure (class) or a function -- there is always the risk we mess things up.  \n",
        "Furthermore, we may not even have access to the code we are trying to extend or improve, as it may be, say, hidden in some library, or pehaps be read-only to us.\n",
        "\n",
        "The following is a bit abstract at the moment, but the examples below hopefully help clarify \n",
        "what is actually means.  \n",
        "\n",
        "It appears that two approaches, a funcional one and objectoriented one, are in some sense orthogonal in the advantages they offer when trying to only \"append\" code:\n",
        "1. In the functional style, it is easy to extend the functionality -- just write another function.\n",
        "On the other hand extending the datastructure causes us to go into all the functions and change them to handle the new structure.\n",
        "2. In the OO style, adding functionality is the problem, we have to go into all the classes and \n",
        "add the functionality. Adding a new datastructure is just a new class, that is easy.\n",
        "\n",
        "*The raises the question if this orthogonality is fundamental? Or can we somehow overcome it and thereby extend code with **both** functionality and datastructures without having to touch existing code?* **#Don't-touch-my-code**\n",
        "\n",
        "## An example using summing of numbers\n",
        "Consider summing some numbers\n",
        "```\n",
        "(((1 + 2) + 3) + 4) =  10\n",
        "```\n",
        "We may think of the expresion above as a tree\n",
        "```\n",
        "              (+)\n",
        "             /    \\\n",
        "           (+)     (4)\n",
        "          /   \\\n",
        "        (+)     (3)\n",
        "       /   \\\n",
        "    (1)     (2)\n",
        "```\n",
        "where the nodes are (+) and the leaves (n) are values.  \n",
        "We would like to define a function `eval` that can evaluate such an expression.  \n",
        "We will try with the two different approaces, 1. the more functional way and 2. the more obect oriented way."
      ],
      "metadata": {}
    },
    {
      "cell_type": "markdown",
      "source": [
        "## Standard object oriented way\n",
        "\n",
        "We define and interface, `IExpr`, with the functionality `eval` and some classes that implenents it, `Val` and `Add`."
      ],
      "metadata": {}
    },
    {
      "cell_type": "code",
      "execution_count": null,
      "source": [
        "public interface IExpr\n",
        "{\n",
        "    int Eval();\n",
        "}\n",
        "\n",
        "public class Val : IExpr\n",
        "{\n",
        "    private int _n { get; }\n",
        "    public Val(int n) { _n = n; }\n",
        "    public int Eval() => _n;\n",
        "}\n",
        "\n",
        "public class Add : IExpr\n",
        "{\n",
        "    private IExpr _left, _right;\n",
        "    public Add(IExpr left, IExpr right) { (_left, _right) = (left, right); }\n",
        "    public int Eval() => _left.Eval() + _right.Eval();\n",
        "}\n",
        "\n",
        "var (one, two, three, four) = (new Val(1), new Val(2), new Val(3), new Val(4));\n",
        "var expr = new Add(new Add(new Add(one, two), three), four);\n",
        "Console.WriteLine(expr.Eval());\n"
      ],
      "outputs": [
        {
          "data": {
            "text/plain": [
              "10\n"
            ]
          },
          "metadata": {},
          "output_type": "display_data"
        }
      ],
      "metadata": {
        "dotnet_interactive": {
          "language": "csharp"
        }
      }
    },
    {
      "cell_type": "markdown",
      "source": [
        "## Extending with new functionality in OO requires changes in old code, i.e. in the classes\n",
        "\n",
        "Let us try to extend with a nice string representation.\n",
        "For example\n",
        "```C#\n",
        "var expr = new Add(new Val(1), new Val(2));\n",
        "expr.PrettyString() => \"(1 + 2)\"\n",
        "``` "
      ],
      "metadata": {}
    },
    {
      "cell_type": "code",
      "execution_count": null,
      "source": [
        "public interface IExpr\n",
        "{\n",
        "    int Eval();\n",
        "    string PrettyString();\n",
        "}\n",
        "\n",
        "public class Val : IExpr\n",
        "{\n",
        "    public int N { get; }\n",
        "    public Val(int n)\n",
        "    {\n",
        "        N = n;\n",
        "    }\n",
        "\n",
        "    public int Eval()\n",
        "    {\n",
        "        return N;\n",
        "    }\n",
        "\n",
        "    public string PrettyString()\n",
        "    {\n",
        "        return N.ToString();\n",
        "    }\n",
        "}\n",
        "\n",
        "public class Add : IExpr\n",
        "{\n",
        "    public  IExpr Left { get; }\n",
        "    public  IExpr Right { get; }\n",
        "    public Add(IExpr left, IExpr right)\n",
        "    {\n",
        "        Left = left;\n",
        "        Right = right;\n",
        "    }\n",
        "\n",
        "    public int Eval()\n",
        "    { \n",
        "        return Left.Eval() + Right.Eval();\n",
        "    }\n",
        "\n",
        "    public string PrettyString()\n",
        "    {\n",
        "        return \"(\" + Left.PrettyString() + \" + \" + Right.PrettyString() + \")\";\n",
        "    }\n",
        "}\n",
        "\n",
        "var (one, two, three, four) = (new Val(1), new Val(2), new Val(3), new Val(4));\n",
        "var expr = new Add(new Add(new Add(one, two), three), four);\n",
        "Console.WriteLine(expr.Eval());\n",
        "Console.WriteLine(expr.PrettyString());"
      ],
      "outputs": [
        {
          "data": {
            "text/plain": [
              "10\n"
            ]
          },
          "metadata": {},
          "output_type": "display_data"
        },
        {
          "data": {
            "text/plain": [
              "(((1 + 2) + 3) + 4)\n"
            ]
          },
          "metadata": {},
          "output_type": "display_data"
        }
      ],
      "metadata": {
        "dotnet_interactive": {
          "language": "csharp"
        }
      }
    },
    {
      "cell_type": "markdown",
      "source": [
        "## Extending datastructures does not require changes using OO way\n",
        "\n",
        "\n",
        "Let say we would like to extend our datastructure with multiplication (*), then this is done by just adding a new class."
      ],
      "metadata": {}
    },
    {
      "cell_type": "code",
      "execution_count": null,
      "source": [
        "public class Mul : IExpr\n",
        "{\n",
        "    public IExpr Left {get;}\n",
        "    public IExpr Right {get;}\n",
        "    public Mul(IExpr e1, IExpr e2)\n",
        "    {\n",
        "        Left = e1;\n",
        "        Right = e2;\n",
        "    }\n",
        "\n",
        "    public int Eval()\n",
        "    {\n",
        "        return Left.Eval() * Right.Eval();\n",
        "    }\n",
        "\n",
        "    public string PrettyString()\n",
        "    {\n",
        "        return \"(\" + Left.PrettyString() + \" * \" + Right.PrettyString() + \")\";\n",
        "    }\n",
        "}\n",
        "\n",
        "var (one, two) = (new Val(1), new Val(2));\n",
        "var expr = new Mul(new Add(one, two), two);\n",
        "Console.Write(expr.Eval());\n",
        "Console.Write(expr.PrettyString());"
      ],
      "outputs": [
        {
          "data": {
            "text/plain": [
              "6"
            ]
          },
          "metadata": {},
          "output_type": "display_data"
        },
        {
          "data": {
            "text/plain": [
              "((1 + 2) * 2)"
            ]
          },
          "metadata": {},
          "output_type": "display_data"
        }
      ],
      "metadata": {
        "dotnet_interactive": {
          "language": "csharp"
        }
      }
    },
    {
      "cell_type": "markdown",
      "source": [
        "## Functional way in F#"
      ],
      "metadata": {}
    },
    {
      "cell_type": "code",
      "execution_count": null,
      "source": [
        "type Expr = Val of int | Add of Expr * Expr\n",
        "// eval: Expr -> int\n",
        "let rec eval expr =\n",
        "    match expr with\n",
        "    | Val n -> n\n",
        "    | Add (e1, e2) -> eval e1 + eval e2\n",
        "\n",
        "let one, two, three, four = Val 1, Val 2, Val 3, Val 4\n",
        "let exprf = Add (Add (Add (one, two), three), four)\n",
        "printfn \"%i\" (eval exprf)"
      ],
      "outputs": [
        {
          "data": {
            "text/plain": [
              "10"
            ]
          },
          "metadata": {},
          "output_type": "display_data"
        },
        {
          "data": {
            "text/plain": [
              "\n"
            ]
          },
          "metadata": {},
          "output_type": "display_data"
        }
      ],
      "metadata": {
        "dotnet_interactive": {
          "language": "fsharp"
        }
      }
    },
    {
      "cell_type": "markdown",
      "source": [
        "## Extending with functionality in the functional approach does not require changes to old code\n",
        "\n",
        "We do not have to touch the old code in this case, and it is pretty elegant, just add a new function"
      ],
      "metadata": {}
    },
    {
      "cell_type": "code",
      "execution_count": null,
      "source": [
        "let rec prettyPrint expr =\n",
        "    match expr with\n",
        "    | Val n -> n.ToString()\n",
        "    | Add (e1, e2) ->  \"(\" + prettyPrint e1 + \" + \" + prettyPrint e2 + \")\"\n",
        "\n",
        "printf \"%i\" (eval exprf)\n",
        "printf \"%s\" (prettyPrint exprf)"
      ],
      "outputs": [
        {
          "data": {
            "text/plain": [
              "10"
            ]
          },
          "metadata": {},
          "output_type": "display_data"
        },
        {
          "data": {
            "text/plain": [
              "(((1 + 2) + 3) + 4)"
            ]
          },
          "metadata": {},
          "output_type": "display_data"
        }
      ],
      "metadata": {
        "dotnet_interactive": {
          "language": "fsharp"
        }
      }
    },
    {
      "cell_type": "markdown",
      "source": [
        "## Functional way in C# is also possible"
      ],
      "metadata": {}
    },
    {
      "cell_type": "code",
      "execution_count": null,
      "source": [
        "// Marker interface\n",
        "public interface IExpr2 { } \n",
        "\n",
        "public class Add : IExpr2\n",
        "{\n",
        "    public IExpr2 Expr1 { get; }\n",
        "    public IExpr2 Expr2 { get; }\n",
        "    public Add(IExpr2 e1, IExpr2 e2) => (Expr1, Expr2) = (e1, e2);\n",
        "}\n",
        "\n",
        "public class Val : IExpr2\n",
        "{\n",
        "    public int N { get; }\n",
        "    public Val(int n) => N = n;\n",
        "}\n",
        "\n",
        "public static class ExprFuncs\n",
        "{\n",
        "    public static int Eval(IExpr2 expr) =>\n",
        "        expr switch\n",
        "        {\n",
        "            Val v => v.N,\n",
        "            Add a => Eval(a.Expr1) + Eval(a.Expr2),\n",
        "            _     => throw new ArgumentException()\n",
        "        };\n",
        "}\n",
        "\n",
        "var (one, two, three, four) = (new Val(1), new Val(2), new Val(3), new Val(4));\n",
        "var expr1 = new Add(new Add(new Add(one, two), three), four);\n",
        "Console.WriteLine(ExprFuncs.Eval(expr1));\n"
      ],
      "outputs": [
        {
          "data": {
            "text/plain": [
              "10\n"
            ]
          },
          "metadata": {},
          "output_type": "display_data"
        }
      ],
      "metadata": {
        "dotnet_interactive": {
          "language": "csharp"
        }
      }
    },
    {
      "cell_type": "code",
      "execution_count": null,
      "source": [],
      "outputs": [],
      "metadata": {
        "dotnet_interactive": {
          "language": "csharp"
        }
      }
    },
    {
      "cell_type": "markdown",
      "source": [
        "## Extending data structures requires us to change in the functional way, i.e add stuff to our functions\n",
        " "
      ],
      "metadata": {}
    },
    {
      "cell_type": "code",
      "execution_count": null,
      "source": [
        "type Expr = Val of int | Add of Expr * Expr | Mul of Expr * Expr\n",
        "\n",
        "let rec eval expr =\n",
        "    match expr with\n",
        "    | Val n -> n\n",
        "    | Add (e1, e2) -> eval e1 + eval e2\n",
        "    | Mul (e1, e2) -> eval e1 * eval e2\n",
        "\n",
        "let rec prettyPrint expr =\n",
        "    match expr with\n",
        "    | Val n -> n.ToString()\n",
        "    | Add (e1, e2) -> \"(\" + prettyPrint e1 + \" + \" + prettyPrint e2 + \")\"\n",
        "    | Mul (e1, e2) -> \"(\" + prettyPrint e1 + \" * \" + prettyPrint e2 + \")\" // added\n",
        "\n",
        "let one, two = Val 1, Val 2\n",
        "let exprmf = Mul (Add (one, two), two)\n",
        "printf \"%i\" (eval exprmf)\n",
        "printf \"%s\" (prettyPrint exprmf)\n"
      ],
      "outputs": [
        {
          "data": {
            "text/plain": [
              "((1 + 2) * 2)"
            ]
          },
          "metadata": {},
          "output_type": "display_data"
        },
        {
          "data": {
            "text/plain": [
              "6"
            ]
          },
          "metadata": {},
          "output_type": "display_data"
        }
      ],
      "metadata": {
        "dotnet_interactive": {
          "language": "fsharp"
        }
      }
    },
    {
      "cell_type": "markdown",
      "source": [
        "## The solution using object algebras"
      ],
      "metadata": {}
    },
    {
      "cell_type": "code",
      "execution_count": null,
      "source": [
        "// abstract factory method\n",
        "public interface IExprOA<T>\n",
        "{\n",
        "    T Val(int n);            // data variant 1\n",
        "    T Add(T left, T right);  // data variant 2\n",
        "}\n",
        "\n",
        "// lets define the eval functionality\n",
        "public interface IEval\n",
        "{\n",
        "    int Eval();\n",
        "}\n",
        "\n",
        "// implenting a concrete factory gives a method to work over the data variants (Val and Add)\n",
        "public class EvalExpr : IExprOA<IEval>\n",
        "{\n",
        "    public IEval Val(int n) => new EvalVal(n);\n",
        "    public IEval Add(IEval left, IEval right) => new EvalAdd(left, right);\n",
        "}\n",
        "\n",
        "// implenentation of ieval for val\n",
        "public class EvalVal : IEval\n",
        "{\n",
        "    int _n;\n",
        "    public EvalVal(int n) => _n = n;\n",
        "    public int Eval() => _n;\n",
        "}\n",
        "\n",
        "// implementation of ieval for add \n",
        "public class EvalAdd : IEval\n",
        "{\n",
        "    private readonly IEval _l, _r;\n",
        "    public EvalAdd(IEval left, IEval right) => (_l, _r) = (left, right);\n",
        "    public int Eval() => _l.Eval() + _r.Eval();\n",
        "}\n",
        "\n",
        "public static class Factory<T>\n",
        "{\n",
        "\n",
        "    public static T Create(IExprOA<T> oa) \n",
        "    { \n",
        "        var (one, two, three, four) = (oa.Val(1), oa.Val(2), oa.Val(3), oa.Val(4));\n",
        "        return oa.Add(oa.Add(oa.Add(one, two), three), four);\n",
        "    }\n",
        "}\n",
        "\n",
        "var evalualbleExpr = Factory<IEval>.Create(new EvalExpr());\n",
        "evalualbleExpr.Eval()"
      ],
      "outputs": [
        {
          "data": {
            "text/html": [
              "<div class=\"dni-plaintext\">10</div>"
            ]
          },
          "metadata": {},
          "output_type": "display_data"
        }
      ],
      "metadata": {
        "dotnet_interactive": {
          "language": "csharp"
        }
      }
    },
    {
      "cell_type": "code",
      "execution_count": null,
      "source": [
        "\n",
        "// lets extend with a pretty printing method\n",
        "public interface IPrint\n",
        "{\n",
        "    string PrettyPrint();   \n",
        "}\n",
        "\n",
        "// concrete factory with the  ipritn method\n",
        "public class PrintExpr : IExprOA<IPrint>\n",
        "{\n",
        "    public IPrint Val(int n) => new PrintVal(n);\n",
        "    public IPrint Add(IPrint left, IPrint right) => new PrintAdd(left, right);\n",
        "}\n",
        "\n",
        "public class PrintAdd : IPrint\n",
        "{\n",
        "    private readonly IPrint _l, _r;\n",
        "    public PrintAdd(IPrint left, IPrint right) => (_l, _r) = (left, right);\n",
        "    public string PrettyPrint() => \"(\" + _l.PrettyPrint() + \" + \" +_r.PrettyPrint() + \")\";\n",
        "}\n",
        "\n",
        "public class PrintVal : IPrint\n",
        "{\n",
        "    private readonly int _n;\n",
        "    public PrintVal(int n) => _n = n;\n",
        "    public string PrettyPrint() => _n.ToString();\n",
        "}\n",
        "\n",
        "public static class Make<T>\n",
        "{\n",
        "    public static T MakeExpr(IExprOA<T> a)\n",
        "    {\n",
        "        var (one, two, three, four) = (a.Val(1), a.Val(2), a.Val(3), a.Val(4));\n",
        "        return a.Add(a.Add(a.Add(one, two), three), four);\n",
        "    }\n",
        "\n",
        "    public static T MakeMulExpr(IMulOA<T> a)\n",
        "    {\n",
        "        var (one, two, three, four) = (a.Val(1), a.Val(2), a.Val(3), a.Val(4));\n",
        "        return a.Add(a.Mul(a.Add(one, two), three), four);\n",
        "    }\n",
        "}\n",
        "\n",
        "var inp = \"1+2+5+4\";\n",
        "var x = Make<IPrint>.MakeExpr(new PrintExpr());\n",
        "Console.Write(x.PrettyPrint());\n",
        "var y = Make<IEval>.MakeExpr(new EvalExpr());\n",
        "Console.WriteLine(y.Eval());\n",
        "\n",
        "// extending with a data variants\n",
        "public interface IMulOA<T> : IExprOA<T>\n",
        "{\n",
        "    T Mul(T left, T right);\n",
        "}\n",
        "\n",
        "// a printer for the new data variant\n",
        "public class PrintMulExpr : PrintExpr, IMulOA<IPrint>\n",
        "{\n",
        "    public IPrint Mul(IPrint left, IPrint right) => new PrintMul(left, right);\n",
        "}\n",
        "\n",
        "public class PrintMul : IPrint\n",
        "{\n",
        "    private readonly IPrint _l, _r;\n",
        "    public PrintMul(IPrint left, IPrint right) => (_l, _r) = (left, right);\n",
        "    public string PrettyPrint() => \"(\" + _l.PrettyPrint() + \" * \" +_r.PrettyPrint() + \")\";\n",
        "}\n",
        "\n",
        "public class EvalMulExpr : EvalExpr, IMulOA<IEval>\n",
        "{\n",
        "    public IEval Mul(IEval left, IEval right) => new EvalMul(left, right);\n",
        "}\n",
        "\n",
        "public class EvalMul : IEval\n",
        "{\n",
        "    private readonly IEval _l, _r;\n",
        "    public EvalMul(IEval left, IEval right) => (_l, _r) = (left, right);\n",
        "    public int Eval() => _l.Eval()  * _r.Eval();\n",
        "}\n",
        "\n",
        "var x2 = Make<IPrint>.MakeMulExpr(new PrintMulExpr());\n",
        "Console.Write(x2.PrettyPrint());\n",
        "var x3 = Make<IEval>.MakeMulExpr(new EvalMulExpr());\n",
        "Console.Write(x3.Eval());"
      ],
      "outputs": [
        {
          "data": {
            "text/plain": [
              "(((1 + 2) + 3) + 4)"
            ]
          },
          "metadata": {},
          "output_type": "display_data"
        },
        {
          "data": {
            "text/plain": [
              "10\n"
            ]
          },
          "metadata": {},
          "output_type": "display_data"
        },
        {
          "data": {
            "text/plain": [
              "(((1 + 2) * 3) + 4)"
            ]
          },
          "metadata": {},
          "output_type": "display_data"
        },
        {
          "data": {
            "text/plain": [
              "13"
            ]
          },
          "metadata": {},
          "output_type": "display_data"
        }
      ],
      "metadata": {
        "dotnet_interactive": {
          "language": "csharp"
        }
      }
    },
    {
      "cell_type": "code",
      "execution_count": null,
      "source": [],
      "outputs": [],
      "metadata": {
        "dotnet_interactive": {
          "language": "csharp"
        }
      }
    }
  ],
  "metadata": {
    "kernelspec": {
      "display_name": ".NET (C#)",
      "language": "C#",
      "name": ".net-csharp"
    },
    "language_info": {
      "file_extension": ".cs",
      "mimetype": "text/x-csharp",
      "name": "C#",
      "pygments_lexer": "csharp",
      "version": "8.0"
    }
  },
  "nbformat": 4,
  "nbformat_minor": 4
}